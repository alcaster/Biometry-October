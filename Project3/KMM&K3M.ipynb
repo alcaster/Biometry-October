{
 "cells": [
  {
   "cell_type": "code",
   "execution_count": 1,
   "metadata": {},
   "outputs": [],
   "source": [
    "%matplotlib inline\n",
    "import numpy as np\n",
    "from PIL import Image\n",
    "from matplotlib.pyplot import imshow\n",
    "from matplotlib import pyplot as plt"
   ]
  },
  {
   "cell_type": "code",
   "execution_count": 2,
   "metadata": {},
   "outputs": [
    {
     "name": "stdout",
     "output_type": "stream",
     "text": [
      "eye.jpg  fingerprints  handwritten1.jpg  signatures\r\n"
     ]
    }
   ],
   "source": [
    "!ls ../data/images/"
   ]
  },
  {
   "cell_type": "code",
   "execution_count": 3,
   "metadata": {},
   "outputs": [],
   "source": [
    "filename = '../data/images/signatures/1.jpg'\n",
    "# filename = '../data/images/fingerprints/fingerprint43.bmp'\n",
    "img = np.asarray(Image.open(filename))"
   ]
  },
  {
   "cell_type": "code",
   "execution_count": 4,
   "metadata": {},
   "outputs": [],
   "source": [
    "def to_grayscale(im, weights = np.c_[0.2989, 0.5870, 0.1140]):\n",
    "    tile = np.tile(weights, reps=(im.shape[0],im.shape[1],1))\n",
    "    return np.sum(tile * im, axis=2)"
   ]
  },
  {
   "cell_type": "code",
   "execution_count": 5,
   "metadata": {},
   "outputs": [],
   "source": [
    "def return_uint8(func):\n",
    "    def func_wrapper(*args):\n",
    "        output = func(*args)\n",
    "        return output.astype(np.uint8)\n",
    "    return func_wrapper\n",
    "\n",
    "def return_float32(func):\n",
    "    def func_wrapper(*args):\n",
    "        output = func(*args)\n",
    "        return output.astype(np.float32)\n",
    "    return func_wrapper\n",
    "\n",
    "def get_global_thresholding(img, threshold):\n",
    "    # http://www.cse.iitd.ernet.in/~pkalra/col783/Thresholding.pdf\n",
    "    if img.ndim == 2:\n",
    "        img = np.asarray( Image.fromarray(np.uint8(img * 255) , 'L'))\n",
    "    else:\n",
    "        img = to_grayscale(img)\n",
    "    return np.apply_along_axis(_threshold, -1, img, threshold)\n",
    "def _threshold(pixel, threshold):\n",
    "    return [1. if color > threshold else 0. for color in pixel]"
   ]
  },
  {
   "cell_type": "code",
   "execution_count": 6,
   "metadata": {},
   "outputs": [],
   "source": [
    "def otsu_threshold(im):\n",
    "    pixel_counts = [np.sum(im == i) for i in range(256)]\n",
    "    s_max = (0,-10)\n",
    "    ss = []\n",
    "    for threshold in range(256):\n",
    "        # update\n",
    "        w_0 = sum(pixel_counts[:threshold])\n",
    "        w_1 = sum(pixel_counts[threshold:])\n",
    "        mu_0 = sum([i * pixel_counts[i] for i in range(0,threshold)]) / w_0 if w_0 > 0 else 0       \n",
    "        mu_1 = sum([i * pixel_counts[i] for i in range(threshold, 256)]) / w_1 if w_1 > 0 else 0\n",
    "        # calculate \n",
    "        s = w_0 * w_1 * (mu_0 - mu_1) ** 2\n",
    "        ss.append(s)\n",
    "        if s > s_max[1]:\n",
    "            s_max = (threshold, s)         \n",
    "    return s_max[0]"
   ]
  },
  {
   "cell_type": "code",
   "execution_count": 7,
   "metadata": {},
   "outputs": [
    {
     "data": {
      "text/plain": [
       "<matplotlib.image.AxesImage at 0x7f6ead1b1358>"
      ]
     },
     "execution_count": 7,
     "metadata": {},
     "output_type": "execute_result"
    },
    {
     "data": {
      "image/png": "[encoded data removed]",
      "text/plain": [
       "<matplotlib.figure.Figure at 0x7f6ead1cfe80>"
      ]
     },
     "metadata": {},
     "output_type": "display_data"
    }
   ],
   "source": [
    "imshow(img, cmap=plt.cm.binary)"
   ]
  },
  {
   "cell_type": "code",
   "execution_count": 8,
   "metadata": {},
   "outputs": [
    {
     "name": "stdout",
     "output_type": "stream",
     "text": [
      "Threshold: 161\n"
     ]
    },
    {
     "data": {
      "text/plain": [
       "<matplotlib.image.AxesImage at 0x7f6ead0450f0>"
      ]
     },
     "execution_count": 8,
     "metadata": {},
     "output_type": "execute_result"
    },
    {
     "data": {
      "image/png": "[encoded data removed]",
      "text/plain": [
       "<matplotlib.figure.Figure at 0x7f6ead122f60>"
      ]
     },
     "metadata": {},
     "output_type": "display_data"
    }
   ],
   "source": [
    "threshold = otsu_threshold(img)\n",
    "print(\"Threshold: {}\".format(threshold))\n",
    "binarized = get_global_thresholding(img, threshold)\n",
    "imshow(binarized, cmap=plt.cm.binary)"
   ]
  },
  {
   "cell_type": "code",
   "execution_count": 9,
   "metadata": {},
   "outputs": [],
   "source": [
    "def first_marks(img):\n",
    "    result = np.ndarray(img.shape)\n",
    "    for (i, j), v in np.ndenumerate(img):\n",
    "        if img[i, j] == 1:\n",
    "            result[i,j] = 1\n",
    "            neighbours = img[i-1:i+2,j-1:j+2]\n",
    "            try:\n",
    "                if neighbours[0][1] == 0 or neighbours[1][0] == 0 or neighbours[1][2] == 0 or neighbours[2][1] == 0:\n",
    "                    result[i, j] = 2\n",
    "                else:\n",
    "                    if neighbours[0][0] == 0 or neighbours[0][2] == 0 or neighbours[2][0] == 0 or neighbours[2][2] == 0:\n",
    "                        result[i, j] = 3\n",
    "            except IndexError:\n",
    "                pass\n",
    "        else:\n",
    "            result[i, j] = 0\n",
    "    return result"
   ]
  },
  {
   "cell_type": "code",
   "execution_count": 10,
   "metadata": {},
   "outputs": [],
   "source": [
    "def get_neighbour_weight(neighbours):\n",
    "    weight = 0\n",
    "    if neighbours[0][1] != 0:\n",
    "        weight += 1\n",
    "    if neighbours[0][2] != 0:\n",
    "        weight += 2\n",
    "    if neighbours[1][2] != 0:\n",
    "        weight += 4\n",
    "    if neighbours[2][2] != 0:\n",
    "        weight += 8\n",
    "    if neighbours[2][1] != 0:\n",
    "        weight += 16\n",
    "    if neighbours[2][0] != 0:\n",
    "        weight += 32\n",
    "    if neighbours[1][0] != 0:\n",
    "        weight += 64\n",
    "    if neighbours[0][0] != 0:\n",
    "        weight += 128\n",
    "    return weight"
   ]
  },
  {
   "cell_type": "code",
   "execution_count": 11,
   "metadata": {},
   "outputs": [],
   "source": [
    "def check_2_3_4_neighbours(neighbours):\n",
    "    w = get_neighbour_weight(neighbours)\n",
    "    return w in [3,6,12,24,48,96,192,129,7,13,28,56,112,224,193,131,15,30,60,120,240,225,195,135]"
   ]
  },
  {
   "cell_type": "code",
   "execution_count": 12,
   "metadata": {},
   "outputs": [],
   "source": [
    "def delete_4s(img):\n",
    "    result = np.ndarray(img.shape)\n",
    "    for (i, j), v in np.ndenumerate(img):\n",
    "        result[i, j] = img[i, j]\n",
    "        if img[i, j] == 2 or img[i, j] == 3:\n",
    "            neighbours = img[i-1:i+2,j-1:j+2]\n",
    "            try:\n",
    "                if check_2_3_4_neighbours(neighbours):\n",
    "                    result[i, j] = 0\n",
    "            except IndexError:\n",
    "                pass\n",
    "    return result"
   ]
  },
  {
   "cell_type": "code",
   "execution_count": 13,
   "metadata": {},
   "outputs": [],
   "source": [
    "DELETION_ARRAY = [\n",
    "    3,5,7,12,13,14,15,20,21,22,23,28,29,30,31,48,52,53,54,55,56,60,61,62,63,65,67,69,71,77,79,80,81,83,84,85,86,87,88,89,91,92,93,94,95,97,99,101,103,109,111,112,113,115,116,117,118,119,120,121,123,124,125,126,127,131,133,135,141,143,149,151,157,159,181,183,189,191,192,193,195,197,199,205,207,208,209,211,212,213,214,215,216,217,219,220,221,222,223,224,225,227,229,231,237,239,240,241,243,244,245,246,247,248,249,251,252,253,254,255\n",
    "]"
   ]
  },
  {
   "cell_type": "code",
   "execution_count": 14,
   "metadata": {},
   "outputs": [],
   "source": [
    "def delete_ns(img, n):\n",
    "    result = img\n",
    "    for (i, j), v in np.ndenumerate(img):\n",
    "        if result[i, j] == n:\n",
    "            neighbours = result[i-1:i+2,j-1:j+2]\n",
    "            try:\n",
    "                if get_neighbour_weight(neighbours) in DELETION_ARRAY:\n",
    "                    result[i, j] = 0\n",
    "                else:\n",
    "                    result[i, j] = 1\n",
    "            except IndexError:\n",
    "                pass\n",
    "    return result"
   ]
  },
  {
   "cell_type": "code",
   "execution_count": 15,
   "metadata": {},
   "outputs": [],
   "source": [
    "f = first_marks(binarized)\n",
    "a = delete_4s(f)\n",
    "b = delete_ns(a, 3)\n",
    "b = delete_ns(b, 2)"
   ]
  },
  {
   "cell_type": "code",
   "execution_count": 16,
   "metadata": {},
   "outputs": [
    {
     "data": {
      "text/plain": [
       "<matplotlib.image.AxesImage at 0x7f6eacff4a90>"
      ]
     },
     "execution_count": 16,
     "metadata": {},
     "output_type": "execute_result"
    },
    {
     "data": {
      "image/png": "[encoded data removed]",
      "text/plain": [
       "<matplotlib.figure.Figure at 0x7f6ead0e62e8>"
      ]
     },
     "metadata": {},
     "output_type": "display_data"
    }
   ],
   "source": [
    "imshow(1-b, cmap=plt.cm.binary)"
   ]
  },
  {
   "cell_type": "markdown",
   "metadata": {},
   "source": [
    "# K3M"
   ]
  },
  {
   "cell_type": "code",
   "execution_count": 17,
   "metadata": {},
   "outputs": [],
   "source": [
    "A0 = [3, 6, 7, 12, 14, 15, 24, 28, 30, 31, 48, 56, 60,\n",
    "62, 63, 96, 112, 120, 124, 126, 127, 129, 131, 135,\n",
    "143, 159, 191, 192, 193, 195, 199, 207, 223, 224,\n",
    "225, 227, 231, 239, 240, 241, 243, 247, 248, 249,\n",
    "251, 252, 253, 254]\n",
    "A1 = [7, 14, 28, 56, 112, 131, 193, 224]\n",
    "A2 = [7, 14, 15, 28, 30, 56, 60, 112, 120, 131, 135,\n",
    "193, 195, 224, 225, 240]\n",
    "A3 = [7, 14, 15, 28, 30, 31, 56, 60, 62, 112, 120,\n",
    "124, 131, 135, 143, 193, 195, 199, 224, 225, 227,\n",
    "240, 241, 248]\n",
    "A4 = [7, 14, 15, 28, 30, 31, 56, 60, 62, 63, 112, 120,\n",
    "124, 126, 131, 135, 143, 159, 193, 195, 199, 207,\n",
    "224, 225, 227, 231, 240, 241, 243, 248, 249, 252]\n",
    "A5 = [7, 14, 15, 28, 30, 31, 56, 60, 62, 63, 112, 120,\n",
    "124, 126, 131, 135, 143, 159, 191, 193, 195, 199,\n",
    "207, 224, 225, 227, 231, 239, 240, 241, 243, 248,\n",
    "249, 251, 252, 254]\n",
    "A1pix = [3, 6, 7, 12, 14, 15, 24, 28, 30, 31, 48, 56,\n",
    "60, 62, 63, 96, 112, 120, 124, 126, 127, 129, 131,\n",
    "135, 143, 159, 191, 192, 193, 195, 199, 207, 223,\n",
    "224, 225, 227, 231, 239, 240, 241, 243, 247, 248,\n",
    "249, 251, 252, 253, 254]\n",
    "PHASES = {\n",
    "    0: A0,\n",
    "    1: A1,\n",
    "    2: A2,\n",
    "    3: A3,\n",
    "    4: A4,\n",
    "    5: A5,\n",
    "}"
   ]
  },
  {
   "cell_type": "code",
   "execution_count": 18,
   "metadata": {},
   "outputs": [],
   "source": [
    "def iterative_part(result, changed):\n",
    "    for n in PHASES.keys():\n",
    "        result, changed = phase_function(result, n, changed)\n",
    "    for (i, j), v in np.ndenumerate(result):\n",
    "        if result[i, j] == 2:\n",
    "            result[i, j] = 1\n",
    "    return result, changed"
   ]
  },
  {
   "cell_type": "code",
   "execution_count": 19,
   "metadata": {},
   "outputs": [],
   "source": [
    "def phase_function(img, n, changed):\n",
    "    result = np.copy(img)\n",
    "    for (i,j), v in np.ndenumerate(img):\n",
    "        try:\n",
    "            if n == 0 and get_neighbour_weight(img[i-1:i+2,j-1:j+2]) in A0:\n",
    "                result[i, j] = 2\n",
    "            elif result[i, j] == 2:\n",
    "                if get_neighbour_weight(result[i-1:i+2,j-1:j+2]) in PHASES[n]:\n",
    "                    changed = True\n",
    "                    result[i, j] = 0\n",
    "        except IndexError:\n",
    "            pass\n",
    "    return result, changed"
   ]
  },
  {
   "cell_type": "code",
   "execution_count": 20,
   "metadata": {},
   "outputs": [],
   "source": [
    "def k3m(img):\n",
    "    result = np.copy(img)\n",
    "    result_changed = False\n",
    "    result, result_changed = iterative_part(result, result_changed)\n",
    "    i = 0\n",
    "    while result_changed:\n",
    "        i += 1\n",
    "        print(i)\n",
    "        if i > 10:\n",
    "            break\n",
    "        result_changed = False\n",
    "        result, result_changed = iterative_part(result, result_changed)\n",
    "    for (i, j), v in np.ndenumerate(result):\n",
    "        try:\n",
    "            if result[i, j] != 0 and get_neighbour_weight(result[i-1:i+2,j-1:j+2]) in A1pix:\n",
    "                result[i, j] = 0\n",
    "        except IndexError:\n",
    "            pass\n",
    "    return result"
   ]
  },
  {
   "cell_type": "code",
   "execution_count": 21,
   "metadata": {},
   "outputs": [
    {
     "name": "stdout",
     "output_type": "stream",
     "text": [
      "1\n",
      "2\n",
      "3\n",
      "4\n",
      "5\n",
      "6\n",
      "7\n",
      "8\n",
      "9\n",
      "10\n",
      "11\n"
     ]
    }
   ],
   "source": [
    "a = k3m(binarized)"
   ]
  },
  {
   "cell_type": "code",
   "execution_count": 22,
   "metadata": {},
   "outputs": [
    {
     "data": {
      "text/plain": [
       "<matplotlib.image.AxesImage at 0x7f6eacf1ea58>"
      ]
     },
     "execution_count": 22,
     "metadata": {},
     "output_type": "execute_result"
    },
    {
     "data": {
      "image/png": "[encoded data removed]",
      "text/plain": [
       "<matplotlib.figure.Figure at 0x7f6ead022cf8>"
      ]
     },
     "metadata": {},
     "output_type": "display_data"
    }
   ],
   "source": [
    "imshow(binarized, cmap=plt.cm.binary)"
   ]
  },
  {
   "cell_type": "code",
   "execution_count": 23,
   "metadata": {},
   "outputs": [
    {
     "data": {
      "text/plain": [
       "<matplotlib.image.AxesImage at 0x7f6eace442e8>"
      ]
     },
     "execution_count": 23,
     "metadata": {},
     "output_type": "execute_result"
    },
    {
     "data": {
      "image/png": "[encoded data removed]",
      "text/plain": [
       "<matplotlib.figure.Figure at 0x7f6eacf467f0>"
      ]
     },
     "metadata": {},
     "output_type": "display_data"
    }
   ],
   "source": [
    "imshow(a, cmap=plt.cm.binary)"
   ]
  }
 ],
 "metadata": {
  "kernelspec": {
   "display_name": "Python 3",
   "language": "python",
   "name": "python3"
  },
  "language_info": {
   "codemirror_mode": {
    "name": "ipython",
    "version": 3
   },
   "file_extension": ".py",
   "mimetype": "text/x-python",
   "name": "python",
   "nbconvert_exporter": "python",
   "pygments_lexer": "ipython3",
   "version": "3.6.3"
  }
 },
 "nbformat": 4,
 "nbformat_minor": 2
}
